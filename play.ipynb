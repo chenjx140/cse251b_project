{
 "cells": [
  {
   "cell_type": "code",
   "execution_count": 1,
   "metadata": {},
   "outputs": [
    {
     "name": "stderr",
     "output_type": "stream",
     "text": [
      "c:\\Python311\\Lib\\site-packages\\tqdm\\auto.py:21: TqdmWarning: IProgress not found. Please update jupyter and ipywidgets. See https://ipywidgets.readthedocs.io/en/stable/user_install.html\n",
      "  from .autonotebook import tqdm as notebook_tqdm\n",
      "Downloading readme: 100%|██████████| 5.27k/5.27k [00:00<?, ?B/s]\n",
      "Downloading data: 100%|██████████| 3.11M/3.11M [00:00<00:00, 5.39MB/s]\n",
      "Downloading data: 100%|██████████| 72.8k/72.8k [00:00<00:00, 648kB/s]\n",
      "Downloading data: 100%|██████████| 148k/148k [00:00<00:00, 981kB/s]\n",
      "Generating train split: 100%|██████████| 67349/67349 [00:00<00:00, 1507673.23 examples/s]\n",
      "Generating validation split: 100%|██████████| 872/872 [00:00<00:00, 435512.39 examples/s]\n",
      "Generating test split: 100%|██████████| 1821/1821 [00:00<00:00, 910674.57 examples/s]\n"
     ]
    }
   ],
   "source": [
    "from datasets import load_dataset\n",
    "raw_datasets = load_dataset(\"sst2\")"
   ]
  },
  {
   "cell_type": "code",
   "execution_count": 6,
   "metadata": {},
   "outputs": [],
   "source": [
    "import torch"
   ]
  },
  {
   "cell_type": "code",
   "execution_count": 4,
   "metadata": {},
   "outputs": [
    {
     "data": {
      "text/plain": [
       "{'idx': 0,\n",
       " 'sentence': 'hide new secretions from the parental units ',\n",
       " 'label': 0}"
      ]
     },
     "execution_count": 4,
     "metadata": {},
     "output_type": "execute_result"
    }
   ],
   "source": [
    "raw_datasets['train'][0]"
   ]
  },
  {
   "cell_type": "code",
   "execution_count": 5,
   "metadata": {},
   "outputs": [
    {
     "name": "stderr",
     "output_type": "stream",
     "text": [
      "Downloading data: 100%|██████████| 312M/312M [00:33<00:00, 9.42MB/s] \n",
      "Downloading data: 100%|██████████| 312M/312M [00:33<00:00, 9.44MB/s] \n",
      "Downloading data: 100%|██████████| 313M/313M [00:32<00:00, 9.57MB/s] \n",
      "Downloading data: 100%|██████████| 313M/313M [00:43<00:00, 7.25MB/s] \n",
      "Downloading data: 100%|██████████| 311M/311M [00:42<00:00, 7.30MB/s] \n",
      "Downloading data: 100%|██████████| 312M/312M [00:42<00:00, 7.27MB/s] \n",
      "Downloading data: 100%|██████████| 313M/313M [01:00<00:00, 5.20MB/s] \n",
      "Downloading data: 100%|██████████| 313M/313M [00:33<00:00, 9.33MB/s] \n",
      "Downloading data: 100%|██████████| 312M/312M [00:42<00:00, 7.29MB/s] \n",
      "Downloading data: 100%|██████████| 209M/209M [00:22<00:00, 9.47MB/s] \n",
      "Generating train split: 100%|██████████| 74004228/74004228 [00:23<00:00, 3185763.66 examples/s]\n"
     ]
    }
   ],
   "source": [
    "book_corpus_dataset = load_dataset(\"bookcorpus\")"
   ]
  },
  {
   "cell_type": "code",
   "execution_count": 7,
   "metadata": {},
   "outputs": [],
   "source": [
    "torch.save(book_corpus_dataset,\"./cache/book_corpus.pth\")"
   ]
  },
  {
   "cell_type": "code",
   "execution_count": 8,
   "metadata": {},
   "outputs": [
    {
     "name": "stderr",
     "output_type": "stream",
     "text": [
      "C:\\Users\\chenj\\AppData\\Roaming\\Python\\Python311\\site-packages\\datasets\\load.py:1461: FutureWarning: The repository for wikipedia contains custom code which must be executed to correctly load the dataset. You can inspect the repository content at https://hf.co/datasets/wikipedia\n",
      "You can avoid this message in future by passing the argument `trust_remote_code=True`.\n",
      "Passing `trust_remote_code=True` will be mandatory to load this dataset from the next major release of `datasets`.\n",
      "  warnings.warn(\n",
      "Downloading builder script: 100%|██████████| 36.7k/36.7k [00:00<00:00, 574kB/s]\n",
      "Downloading readme: 100%|██████████| 16.0k/16.0k [00:00<00:00, 16.0MB/s]\n",
      "Downloading: 100%|██████████| 15.3k/15.3k [00:00<00:00, 998kB/s]\n",
      "Downloading: 100%|██████████| 20.3G/20.3G [32:29<00:00, 10.4MB/s]  \n"
     ]
    }
   ],
   "source": [
    "wikipedia_dataset = load_dataset(\"wikipedia\", \"20220301.en\")"
   ]
  }
 ],
 "metadata": {
  "kernelspec": {
   "display_name": "Python 3",
   "language": "python",
   "name": "python3"
  },
  "language_info": {
   "codemirror_mode": {
    "name": "ipython",
    "version": 3
   },
   "file_extension": ".py",
   "mimetype": "text/x-python",
   "name": "python",
   "nbconvert_exporter": "python",
   "pygments_lexer": "ipython3",
   "version": "3.11.3"
  }
 },
 "nbformat": 4,
 "nbformat_minor": 2
}
